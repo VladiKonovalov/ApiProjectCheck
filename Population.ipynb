{
  "nbformat": 4,
  "nbformat_minor": 0,
  "metadata": {
    "colab": {
      "provenance": [],
      "authorship_tag": "ABX9TyP8NDV7ALMAlnTLvvwqA/1i",
      "include_colab_link": true
    },
    "kernelspec": {
      "name": "python3",
      "display_name": "Python 3"
    },
    "language_info": {
      "name": "python"
    }
  },
  "cells": [
    {
      "cell_type": "markdown",
      "metadata": {
        "id": "view-in-github",
        "colab_type": "text"
      },
      "source": [
        "<a href=\"https://colab.research.google.com/github/VladiKonovalov/ApiProjectCheck/blob/main/Population.ipynb\" target=\"_parent\"><img src=\"https://colab.research.google.com/assets/colab-badge.svg\" alt=\"Open In Colab\"/></a>"
      ]
    },
    {
      "cell_type": "code",
      "execution_count": null,
      "metadata": {
        "id": "L1o-_Qav1qbF"
      },
      "outputs": [],
      "source": [
        "import pandas as pd\n",
        "from sklearn.model_selection import train_test_split\n",
        "import tensorflow as tf\n",
        "from sklearn.preprocessing import MinMaxScaler"
      ]
    },
    {
      "cell_type": "code",
      "source": [
        "x = dataset[['Population Growth Rate', 'Growth Rate']]\n",
        "x.loc[:, 'Population Growth Rate'] = x.loc[:, 'Population Growth Rate'].str.replace(',', '').astype(int)\n",
        "x.loc[:, 'Growth Rate'] = x.loc[:, 'Growth Rate'].str.rstrip('%').astype(float)"
      ],
      "metadata": {
        "colab": {
          "base_uri": "https://localhost:8080/"
        },
        "id": "Q1BOlrhx3ISk",
        "outputId": "fdf5f750-1aa3-4c81-a98d-21d27999a628"
      },
      "execution_count": null,
      "outputs": [
        {
          "output_type": "stream",
          "name": "stderr",
          "text": [
            "<ipython-input-176-461dcc9363ae>:2: SettingWithCopyWarning: \n",
            "A value is trying to be set on a copy of a slice from a DataFrame.\n",
            "Try using .loc[row_indexer,col_indexer] = value instead\n",
            "\n",
            "See the caveats in the documentation: https://pandas.pydata.org/pandas-docs/stable/user_guide/indexing.html#returning-a-view-versus-a-copy\n",
            "  x.loc[:, 'Population Growth Rate'] = x.loc[:, 'Population Growth Rate'].str.replace(',', '').astype(int)\n",
            "<ipython-input-176-461dcc9363ae>:2: DeprecationWarning: In a future version, `df.iloc[:, i] = newvals` will attempt to set the values inplace instead of always setting a new array. To retain the old behavior, use either `df[df.columns[i]] = newvals` or, if columns are non-unique, `df.isetitem(i, newvals)`\n",
            "  x.loc[:, 'Population Growth Rate'] = x.loc[:, 'Population Growth Rate'].str.replace(',', '').astype(int)\n",
            "<ipython-input-176-461dcc9363ae>:3: SettingWithCopyWarning: \n",
            "A value is trying to be set on a copy of a slice from a DataFrame.\n",
            "Try using .loc[row_indexer,col_indexer] = value instead\n",
            "\n",
            "See the caveats in the documentation: https://pandas.pydata.org/pandas-docs/stable/user_guide/indexing.html#returning-a-view-versus-a-copy\n",
            "  x.loc[:, 'Growth Rate'] = x.loc[:, 'Growth Rate'].str.rstrip('%').astype(float)\n",
            "<ipython-input-176-461dcc9363ae>:3: DeprecationWarning: In a future version, `df.iloc[:, i] = newvals` will attempt to set the values inplace instead of always setting a new array. To retain the old behavior, use either `df[df.columns[i]] = newvals` or, if columns are non-unique, `df.isetitem(i, newvals)`\n",
            "  x.loc[:, 'Growth Rate'] = x.loc[:, 'Growth Rate'].str.rstrip('%').astype(float)\n"
          ]
        }
      ]
    },
    {
      "cell_type": "code",
      "source": [
        "y = dataset['Year']\n",
        "scaler = MinMaxScaler()\n",
        "x_scaled = scaler.fit_transform(x)\n"
      ],
      "metadata": {
        "id": "AZTqmHltHJmL"
      },
      "execution_count": null,
      "outputs": []
    },
    {
      "cell_type": "code",
      "source": [
        "\n",
        "x_train, x_test, y_train, y_test = train_test_split(x_scaled, y, test_size=0.2)\n"
      ],
      "metadata": {
        "id": "Sj_uo5QJ3WGJ"
      },
      "execution_count": null,
      "outputs": []
    },
    {
      "cell_type": "code",
      "source": [
        "model = tf.keras.models.Sequential()\n",
        "model.add(tf.keras.layers.Dense(256, input_shape=(2,), activation='sigmoid'))\n",
        "model.add(tf.keras.layers.Dense(256, activation='sigmoid'))\n",
        "model.add(tf.keras.layers.Dense(1, activation='sigmoid'))"
      ],
      "metadata": {
        "id": "EzptUhF14hyy"
      },
      "execution_count": null,
      "outputs": []
    },
    {
      "cell_type": "code",
      "source": [
        "optimizer = tf.keras.optimizers.Adam(learning_rate=0.001)\n",
        "model.compile(optimizer='adam', loss='mean_absolute_error', metrics=['accuracy'])\n"
      ],
      "metadata": {
        "id": "wF4-ZdDY6mTp"
      },
      "execution_count": null,
      "outputs": []
    },
    {
      "cell_type": "code",
      "source": [
        "model.fit(x_train, y_train, epochs=100, validation_data=(x_test, y_test))"
      ],
      "metadata": {
        "colab": {
          "base_uri": "https://localhost:8080/"
        },
        "id": "jDlQKc_H7OIY",
        "outputId": "5168c42d-0bb0-4fcb-c3bd-5bfe1647083a"
      },
      "execution_count": null,
      "outputs": [
        {
          "output_type": "stream",
          "name": "stdout",
          "text": [
            "Epoch 1/100\n",
            "2/2 [==============================] - 1s 201ms/step - loss: 1985.2316 - accuracy: 0.0000e+00 - val_loss: 1988.0042 - val_accuracy: 0.0000e+00\n",
            "Epoch 2/100\n",
            "2/2 [==============================] - 0s 38ms/step - loss: 1985.0072 - accuracy: 0.0000e+00 - val_loss: 1987.9083 - val_accuracy: 0.0000e+00\n",
            "Epoch 3/100\n",
            "2/2 [==============================] - 0s 59ms/step - loss: 1984.9321 - accuracy: 0.0000e+00 - val_loss: 1987.8815 - val_accuracy: 0.0000e+00\n",
            "Epoch 4/100\n",
            "2/2 [==============================] - 0s 58ms/step - loss: 1984.9109 - accuracy: 0.0000e+00 - val_loss: 1987.8733 - val_accuracy: 0.0000e+00\n",
            "Epoch 5/100\n",
            "2/2 [==============================] - 0s 39ms/step - loss: 1984.9041 - accuracy: 0.0000e+00 - val_loss: 1987.8702 - val_accuracy: 0.0000e+00\n",
            "Epoch 6/100\n",
            "2/2 [==============================] - 0s 58ms/step - loss: 1984.9014 - accuracy: 0.0000e+00 - val_loss: 1987.8688 - val_accuracy: 0.0000e+00\n",
            "Epoch 7/100\n",
            "2/2 [==============================] - 0s 60ms/step - loss: 1984.9001 - accuracy: 0.0000e+00 - val_loss: 1987.8679 - val_accuracy: 0.0000e+00\n",
            "Epoch 8/100\n",
            "2/2 [==============================] - 0s 40ms/step - loss: 1984.8997 - accuracy: 0.0000e+00 - val_loss: 1987.8677 - val_accuracy: 0.0000e+00\n",
            "Epoch 9/100\n",
            "2/2 [==============================] - 0s 37ms/step - loss: 1984.8993 - accuracy: 0.0000e+00 - val_loss: 1987.8674 - val_accuracy: 0.0000e+00\n",
            "Epoch 10/100\n",
            "2/2 [==============================] - 0s 48ms/step - loss: 1984.8989 - accuracy: 0.0000e+00 - val_loss: 1987.8673 - val_accuracy: 0.0000e+00\n",
            "Epoch 11/100\n",
            "2/2 [==============================] - 0s 63ms/step - loss: 1984.8988 - accuracy: 0.0000e+00 - val_loss: 1987.8671 - val_accuracy: 0.0000e+00\n",
            "Epoch 12/100\n",
            "2/2 [==============================] - 0s 52ms/step - loss: 1984.8988 - accuracy: 0.0000e+00 - val_loss: 1987.8671 - val_accuracy: 0.0000e+00\n",
            "Epoch 13/100\n",
            "2/2 [==============================] - 0s 68ms/step - loss: 1984.8987 - accuracy: 0.0000e+00 - val_loss: 1987.8669 - val_accuracy: 0.0000e+00\n",
            "Epoch 14/100\n",
            "2/2 [==============================] - 0s 39ms/step - loss: 1984.8986 - accuracy: 0.0000e+00 - val_loss: 1987.8669 - val_accuracy: 0.0000e+00\n",
            "Epoch 15/100\n",
            "2/2 [==============================] - 0s 38ms/step - loss: 1984.8986 - accuracy: 0.0000e+00 - val_loss: 1987.8669 - val_accuracy: 0.0000e+00\n",
            "Epoch 16/100\n",
            "2/2 [==============================] - 0s 62ms/step - loss: 1984.8986 - accuracy: 0.0000e+00 - val_loss: 1987.8669 - val_accuracy: 0.0000e+00\n",
            "Epoch 17/100\n",
            "2/2 [==============================] - 0s 40ms/step - loss: 1984.8986 - accuracy: 0.0000e+00 - val_loss: 1987.8669 - val_accuracy: 0.0000e+00\n",
            "Epoch 18/100\n",
            "2/2 [==============================] - 0s 57ms/step - loss: 1984.8986 - accuracy: 0.0000e+00 - val_loss: 1987.8669 - val_accuracy: 0.0000e+00\n",
            "Epoch 19/100\n",
            "2/2 [==============================] - 0s 40ms/step - loss: 1984.8986 - accuracy: 0.0000e+00 - val_loss: 1987.8669 - val_accuracy: 0.0000e+00\n",
            "Epoch 20/100\n",
            "2/2 [==============================] - 0s 62ms/step - loss: 1984.8986 - accuracy: 0.0000e+00 - val_loss: 1987.8669 - val_accuracy: 0.0000e+00\n",
            "Epoch 21/100\n",
            "2/2 [==============================] - 0s 42ms/step - loss: 1984.8986 - accuracy: 0.0000e+00 - val_loss: 1987.8669 - val_accuracy: 0.0000e+00\n",
            "Epoch 22/100\n",
            "2/2 [==============================] - 0s 57ms/step - loss: 1984.8986 - accuracy: 0.0000e+00 - val_loss: 1987.8669 - val_accuracy: 0.0000e+00\n",
            "Epoch 23/100\n",
            "2/2 [==============================] - 0s 36ms/step - loss: 1984.8986 - accuracy: 0.0000e+00 - val_loss: 1987.8669 - val_accuracy: 0.0000e+00\n",
            "Epoch 24/100\n",
            "2/2 [==============================] - 0s 41ms/step - loss: 1984.8986 - accuracy: 0.0000e+00 - val_loss: 1987.8669 - val_accuracy: 0.0000e+00\n",
            "Epoch 25/100\n",
            "2/2 [==============================] - 0s 38ms/step - loss: 1984.8986 - accuracy: 0.0000e+00 - val_loss: 1987.8669 - val_accuracy: 0.0000e+00\n",
            "Epoch 26/100\n",
            "2/2 [==============================] - 0s 55ms/step - loss: 1984.8986 - accuracy: 0.0000e+00 - val_loss: 1987.8669 - val_accuracy: 0.0000e+00\n",
            "Epoch 27/100\n",
            "2/2 [==============================] - 0s 67ms/step - loss: 1984.8986 - accuracy: 0.0000e+00 - val_loss: 1987.8669 - val_accuracy: 0.0000e+00\n",
            "Epoch 28/100\n",
            "2/2 [==============================] - 0s 56ms/step - loss: 1984.8986 - accuracy: 0.0000e+00 - val_loss: 1987.8669 - val_accuracy: 0.0000e+00\n",
            "Epoch 29/100\n",
            "2/2 [==============================] - 0s 43ms/step - loss: 1984.8986 - accuracy: 0.0000e+00 - val_loss: 1987.8669 - val_accuracy: 0.0000e+00\n",
            "Epoch 30/100\n",
            "2/2 [==============================] - 0s 40ms/step - loss: 1984.8986 - accuracy: 0.0000e+00 - val_loss: 1987.8669 - val_accuracy: 0.0000e+00\n",
            "Epoch 31/100\n",
            "2/2 [==============================] - 0s 38ms/step - loss: 1984.8986 - accuracy: 0.0000e+00 - val_loss: 1987.8669 - val_accuracy: 0.0000e+00\n",
            "Epoch 32/100\n",
            "2/2 [==============================] - 0s 38ms/step - loss: 1984.8986 - accuracy: 0.0000e+00 - val_loss: 1987.8669 - val_accuracy: 0.0000e+00\n",
            "Epoch 33/100\n",
            "2/2 [==============================] - 0s 54ms/step - loss: 1984.8986 - accuracy: 0.0000e+00 - val_loss: 1987.8669 - val_accuracy: 0.0000e+00\n",
            "Epoch 34/100\n",
            "2/2 [==============================] - 0s 59ms/step - loss: 1984.8986 - accuracy: 0.0000e+00 - val_loss: 1987.8669 - val_accuracy: 0.0000e+00\n",
            "Epoch 35/100\n",
            "2/2 [==============================] - 0s 54ms/step - loss: 1984.8986 - accuracy: 0.0000e+00 - val_loss: 1987.8669 - val_accuracy: 0.0000e+00\n",
            "Epoch 36/100\n",
            "2/2 [==============================] - 0s 43ms/step - loss: 1984.8986 - accuracy: 0.0000e+00 - val_loss: 1987.8669 - val_accuracy: 0.0000e+00\n",
            "Epoch 37/100\n",
            "2/2 [==============================] - 0s 37ms/step - loss: 1984.8986 - accuracy: 0.0000e+00 - val_loss: 1987.8669 - val_accuracy: 0.0000e+00\n",
            "Epoch 38/100\n",
            "2/2 [==============================] - 0s 55ms/step - loss: 1984.8986 - accuracy: 0.0000e+00 - val_loss: 1987.8669 - val_accuracy: 0.0000e+00\n",
            "Epoch 39/100\n",
            "2/2 [==============================] - 0s 53ms/step - loss: 1984.8986 - accuracy: 0.0000e+00 - val_loss: 1987.8669 - val_accuracy: 0.0000e+00\n",
            "Epoch 40/100\n",
            "2/2 [==============================] - 0s 42ms/step - loss: 1984.8986 - accuracy: 0.0000e+00 - val_loss: 1987.8669 - val_accuracy: 0.0000e+00\n",
            "Epoch 41/100\n",
            "2/2 [==============================] - 0s 37ms/step - loss: 1984.8986 - accuracy: 0.0000e+00 - val_loss: 1987.8669 - val_accuracy: 0.0000e+00\n",
            "Epoch 42/100\n",
            "2/2 [==============================] - 0s 36ms/step - loss: 1984.8986 - accuracy: 0.0000e+00 - val_loss: 1987.8669 - val_accuracy: 0.0000e+00\n",
            "Epoch 43/100\n",
            "2/2 [==============================] - 0s 37ms/step - loss: 1984.8986 - accuracy: 0.0000e+00 - val_loss: 1987.8669 - val_accuracy: 0.0000e+00\n",
            "Epoch 44/100\n",
            "2/2 [==============================] - 0s 65ms/step - loss: 1984.8986 - accuracy: 0.0000e+00 - val_loss: 1987.8669 - val_accuracy: 0.0000e+00\n",
            "Epoch 45/100\n",
            "2/2 [==============================] - 0s 37ms/step - loss: 1984.8986 - accuracy: 0.0000e+00 - val_loss: 1987.8669 - val_accuracy: 0.0000e+00\n",
            "Epoch 46/100\n",
            "2/2 [==============================] - 0s 39ms/step - loss: 1984.8986 - accuracy: 0.0000e+00 - val_loss: 1987.8669 - val_accuracy: 0.0000e+00\n",
            "Epoch 47/100\n",
            "2/2 [==============================] - 0s 42ms/step - loss: 1984.8986 - accuracy: 0.0000e+00 - val_loss: 1987.8669 - val_accuracy: 0.0000e+00\n",
            "Epoch 48/100\n",
            "2/2 [==============================] - 0s 54ms/step - loss: 1984.8986 - accuracy: 0.0000e+00 - val_loss: 1987.8669 - val_accuracy: 0.0000e+00\n",
            "Epoch 49/100\n",
            "2/2 [==============================] - 0s 58ms/step - loss: 1984.8986 - accuracy: 0.0000e+00 - val_loss: 1987.8668 - val_accuracy: 0.0000e+00\n",
            "Epoch 50/100\n",
            "2/2 [==============================] - 0s 36ms/step - loss: 1984.8984 - accuracy: 0.0000e+00 - val_loss: 1987.8668 - val_accuracy: 0.0000e+00\n",
            "Epoch 51/100\n",
            "2/2 [==============================] - 0s 54ms/step - loss: 1984.8984 - accuracy: 0.0000e+00 - val_loss: 1987.8668 - val_accuracy: 0.0000e+00\n",
            "Epoch 52/100\n",
            "2/2 [==============================] - 0s 55ms/step - loss: 1984.8984 - accuracy: 0.0000e+00 - val_loss: 1987.8668 - val_accuracy: 0.0000e+00\n",
            "Epoch 53/100\n",
            "2/2 [==============================] - 0s 55ms/step - loss: 1984.8984 - accuracy: 0.0000e+00 - val_loss: 1987.8668 - val_accuracy: 0.0000e+00\n",
            "Epoch 54/100\n",
            "2/2 [==============================] - 0s 58ms/step - loss: 1984.8984 - accuracy: 0.0000e+00 - val_loss: 1987.8668 - val_accuracy: 0.0000e+00\n",
            "Epoch 55/100\n",
            "2/2 [==============================] - 0s 54ms/step - loss: 1984.8984 - accuracy: 0.0000e+00 - val_loss: 1987.8668 - val_accuracy: 0.0000e+00\n",
            "Epoch 56/100\n",
            "2/2 [==============================] - 0s 67ms/step - loss: 1984.8984 - accuracy: 0.0000e+00 - val_loss: 1987.8668 - val_accuracy: 0.0000e+00\n",
            "Epoch 57/100\n",
            "2/2 [==============================] - 0s 38ms/step - loss: 1984.8984 - accuracy: 0.0000e+00 - val_loss: 1987.8668 - val_accuracy: 0.0000e+00\n",
            "Epoch 58/100\n",
            "2/2 [==============================] - 0s 41ms/step - loss: 1984.8984 - accuracy: 0.0000e+00 - val_loss: 1987.8668 - val_accuracy: 0.0000e+00\n",
            "Epoch 59/100\n",
            "2/2 [==============================] - 0s 41ms/step - loss: 1984.8984 - accuracy: 0.0000e+00 - val_loss: 1987.8668 - val_accuracy: 0.0000e+00\n",
            "Epoch 60/100\n",
            "2/2 [==============================] - 0s 51ms/step - loss: 1984.8984 - accuracy: 0.0000e+00 - val_loss: 1987.8668 - val_accuracy: 0.0000e+00\n",
            "Epoch 61/100\n",
            "2/2 [==============================] - 0s 59ms/step - loss: 1984.8984 - accuracy: 0.0000e+00 - val_loss: 1987.8668 - val_accuracy: 0.0000e+00\n",
            "Epoch 62/100\n",
            "2/2 [==============================] - 0s 38ms/step - loss: 1984.8984 - accuracy: 0.0000e+00 - val_loss: 1987.8668 - val_accuracy: 0.0000e+00\n",
            "Epoch 63/100\n",
            "2/2 [==============================] - 0s 43ms/step - loss: 1984.8984 - accuracy: 0.0000e+00 - val_loss: 1987.8668 - val_accuracy: 0.0000e+00\n",
            "Epoch 64/100\n",
            "2/2 [==============================] - 0s 38ms/step - loss: 1984.8984 - accuracy: 0.0000e+00 - val_loss: 1987.8668 - val_accuracy: 0.0000e+00\n",
            "Epoch 65/100\n",
            "2/2 [==============================] - 0s 38ms/step - loss: 1984.8984 - accuracy: 0.0000e+00 - val_loss: 1987.8668 - val_accuracy: 0.0000e+00\n",
            "Epoch 66/100\n",
            "2/2 [==============================] - 0s 47ms/step - loss: 1984.8984 - accuracy: 0.0000e+00 - val_loss: 1987.8668 - val_accuracy: 0.0000e+00\n",
            "Epoch 67/100\n",
            "2/2 [==============================] - 0s 55ms/step - loss: 1984.8984 - accuracy: 0.0000e+00 - val_loss: 1987.8668 - val_accuracy: 0.0000e+00\n",
            "Epoch 68/100\n",
            "2/2 [==============================] - 0s 38ms/step - loss: 1984.8984 - accuracy: 0.0000e+00 - val_loss: 1987.8668 - val_accuracy: 0.0000e+00\n",
            "Epoch 69/100\n",
            "2/2 [==============================] - 0s 38ms/step - loss: 1984.8984 - accuracy: 0.0000e+00 - val_loss: 1987.8668 - val_accuracy: 0.0000e+00\n",
            "Epoch 70/100\n",
            "2/2 [==============================] - 0s 61ms/step - loss: 1984.8984 - accuracy: 0.0000e+00 - val_loss: 1987.8668 - val_accuracy: 0.0000e+00\n",
            "Epoch 71/100\n",
            "2/2 [==============================] - 0s 39ms/step - loss: 1984.8984 - accuracy: 0.0000e+00 - val_loss: 1987.8668 - val_accuracy: 0.0000e+00\n",
            "Epoch 72/100\n",
            "2/2 [==============================] - 0s 39ms/step - loss: 1984.8984 - accuracy: 0.0000e+00 - val_loss: 1987.8668 - val_accuracy: 0.0000e+00\n",
            "Epoch 73/100\n",
            "2/2 [==============================] - 0s 58ms/step - loss: 1984.8984 - accuracy: 0.0000e+00 - val_loss: 1987.8668 - val_accuracy: 0.0000e+00\n",
            "Epoch 74/100\n",
            "2/2 [==============================] - 0s 41ms/step - loss: 1984.8984 - accuracy: 0.0000e+00 - val_loss: 1987.8668 - val_accuracy: 0.0000e+00\n",
            "Epoch 75/100\n",
            "2/2 [==============================] - 0s 44ms/step - loss: 1984.8984 - accuracy: 0.0000e+00 - val_loss: 1987.8668 - val_accuracy: 0.0000e+00\n",
            "Epoch 76/100\n",
            "2/2 [==============================] - 0s 40ms/step - loss: 1984.8984 - accuracy: 0.0000e+00 - val_loss: 1987.8668 - val_accuracy: 0.0000e+00\n",
            "Epoch 77/100\n",
            "2/2 [==============================] - 0s 46ms/step - loss: 1984.8984 - accuracy: 0.0000e+00 - val_loss: 1987.8668 - val_accuracy: 0.0000e+00\n",
            "Epoch 78/100\n",
            "2/2 [==============================] - 0s 58ms/step - loss: 1984.8984 - accuracy: 0.0000e+00 - val_loss: 1987.8668 - val_accuracy: 0.0000e+00\n",
            "Epoch 79/100\n",
            "2/2 [==============================] - 0s 64ms/step - loss: 1984.8984 - accuracy: 0.0000e+00 - val_loss: 1987.8668 - val_accuracy: 0.0000e+00\n",
            "Epoch 80/100\n",
            "2/2 [==============================] - 0s 40ms/step - loss: 1984.8984 - accuracy: 0.0000e+00 - val_loss: 1987.8668 - val_accuracy: 0.0000e+00\n",
            "Epoch 81/100\n",
            "2/2 [==============================] - 0s 39ms/step - loss: 1984.8984 - accuracy: 0.0000e+00 - val_loss: 1987.8668 - val_accuracy: 0.0000e+00\n",
            "Epoch 82/100\n",
            "2/2 [==============================] - 0s 40ms/step - loss: 1984.8984 - accuracy: 0.0000e+00 - val_loss: 1987.8668 - val_accuracy: 0.0000e+00\n",
            "Epoch 83/100\n",
            "2/2 [==============================] - 0s 39ms/step - loss: 1984.8984 - accuracy: 0.0000e+00 - val_loss: 1987.8668 - val_accuracy: 0.0000e+00\n",
            "Epoch 84/100\n",
            "2/2 [==============================] - 0s 56ms/step - loss: 1984.8984 - accuracy: 0.0000e+00 - val_loss: 1987.8668 - val_accuracy: 0.0000e+00\n",
            "Epoch 85/100\n",
            "2/2 [==============================] - 0s 46ms/step - loss: 1984.8984 - accuracy: 0.0000e+00 - val_loss: 1987.8668 - val_accuracy: 0.0000e+00\n",
            "Epoch 86/100\n",
            "2/2 [==============================] - 0s 41ms/step - loss: 1984.8984 - accuracy: 0.0000e+00 - val_loss: 1987.8668 - val_accuracy: 0.0000e+00\n",
            "Epoch 87/100\n",
            "2/2 [==============================] - 0s 38ms/step - loss: 1984.8984 - accuracy: 0.0000e+00 - val_loss: 1987.8668 - val_accuracy: 0.0000e+00\n",
            "Epoch 88/100\n",
            "2/2 [==============================] - 0s 39ms/step - loss: 1984.8984 - accuracy: 0.0000e+00 - val_loss: 1987.8668 - val_accuracy: 0.0000e+00\n",
            "Epoch 89/100\n",
            "2/2 [==============================] - 0s 56ms/step - loss: 1984.8984 - accuracy: 0.0000e+00 - val_loss: 1987.8668 - val_accuracy: 0.0000e+00\n",
            "Epoch 90/100\n",
            "2/2 [==============================] - 0s 45ms/step - loss: 1984.8984 - accuracy: 0.0000e+00 - val_loss: 1987.8668 - val_accuracy: 0.0000e+00\n",
            "Epoch 91/100\n",
            "2/2 [==============================] - 0s 41ms/step - loss: 1984.8984 - accuracy: 0.0000e+00 - val_loss: 1987.8668 - val_accuracy: 0.0000e+00\n",
            "Epoch 92/100\n",
            "2/2 [==============================] - 0s 41ms/step - loss: 1984.8984 - accuracy: 0.0000e+00 - val_loss: 1987.8668 - val_accuracy: 0.0000e+00\n",
            "Epoch 93/100\n",
            "2/2 [==============================] - 0s 57ms/step - loss: 1984.8984 - accuracy: 0.0000e+00 - val_loss: 1987.8668 - val_accuracy: 0.0000e+00\n",
            "Epoch 94/100\n",
            "2/2 [==============================] - 0s 51ms/step - loss: 1984.8984 - accuracy: 0.0000e+00 - val_loss: 1987.8668 - val_accuracy: 0.0000e+00\n",
            "Epoch 95/100\n",
            "2/2 [==============================] - 0s 55ms/step - loss: 1984.8984 - accuracy: 0.0000e+00 - val_loss: 1987.8668 - val_accuracy: 0.0000e+00\n",
            "Epoch 96/100\n",
            "2/2 [==============================] - 0s 42ms/step - loss: 1984.8984 - accuracy: 0.0000e+00 - val_loss: 1987.8668 - val_accuracy: 0.0000e+00\n",
            "Epoch 97/100\n",
            "2/2 [==============================] - 0s 43ms/step - loss: 1984.8984 - accuracy: 0.0000e+00 - val_loss: 1987.8668 - val_accuracy: 0.0000e+00\n",
            "Epoch 98/100\n",
            "2/2 [==============================] - 0s 62ms/step - loss: 1984.8984 - accuracy: 0.0000e+00 - val_loss: 1987.8668 - val_accuracy: 0.0000e+00\n",
            "Epoch 99/100\n",
            "2/2 [==============================] - 0s 61ms/step - loss: 1984.8984 - accuracy: 0.0000e+00 - val_loss: 1987.8668 - val_accuracy: 0.0000e+00\n",
            "Epoch 100/100\n",
            "2/2 [==============================] - 0s 39ms/step - loss: 1984.8984 - accuracy: 0.0000e+00 - val_loss: 1987.8668 - val_accuracy: 0.0000e+00\n"
          ]
        },
        {
          "output_type": "execute_result",
          "data": {
            "text/plain": [
              "<keras.callbacks.History at 0x7f23f7dd8ee0>"
            ]
          },
          "metadata": {},
          "execution_count": 181
        }
      ]
    },
    {
      "cell_type": "code",
      "source": [
        "model.evaluate(x_test,y_test)"
      ],
      "metadata": {
        "colab": {
          "base_uri": "https://localhost:8080/"
        },
        "id": "FaBpR8YNKX58",
        "outputId": "2ff62747-7c35-4f32-876d-b7a3bf06bbde"
      },
      "execution_count": null,
      "outputs": [
        {
          "output_type": "stream",
          "name": "stdout",
          "text": [
            "1/1 [==============================] - 0s 52ms/step - loss: 1989.9335 - accuracy: 0.0000e+00\n"
          ]
        },
        {
          "output_type": "execute_result",
          "data": {
            "text/plain": [
              "[1989.9334716796875, 0.0]"
            ]
          },
          "metadata": {},
          "execution_count": 157
        }
      ]
    }
  ]
}